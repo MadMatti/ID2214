{
 "cells": [
  {
   "cell_type": "code",
   "execution_count": 29,
   "metadata": {
    "collapsed": true,
    "pycharm": {
     "name": "#%%\n"
    }
   },
   "outputs": [],
   "source": [
    "import matplotlib.pyplot as plt\n",
    "import pandas as pd\n",
    "import numpy as np\n",
    "from IPython.display import display\n",
    "# import all rdkit needed libraries\n",
    "import rdkit\n",
    "from rdkit.Chem import AllChem\n",
    "from rdkit.Chem import Descriptors\n",
    "from sklearn.model_selection import train_test_split\n",
    "from imblearn.over_sampling import SMOTE\n",
    "from imblearn.under_sampling import RandomUnderSampler\n",
    "\n",
    "import seaborn as sns"
   ]
  },
  {
   "cell_type": "code",
   "execution_count": 3,
   "outputs": [
    {
     "name": "stderr",
     "output_type": "stream",
     "text": [
      "[16:05:32] WARNING: not removing hydrogen atom without neighbors\n",
      "[16:06:30] WARNING: not removing hydrogen atom without neighbors\n"
     ]
    }
   ],
   "source": [
    "def load_data(file):\n",
    "    df = pd.read_csv(file)\n",
    "    return df\n",
    "\n",
    "def get_mol(df):\n",
    "    df['mol'] = df['SMILES'].apply(rdkit.Chem.MolFromSmiles)\n",
    "    return df\n",
    "\n",
    "def feature_extraction(df):\n",
    "    df['num_atoms'] = df['mol'].apply(lambda x: x.GetNumAtoms())\n",
    "    df['num_heavy_atoms'] = df['mol'].apply(lambda x: x.GetNumHeavyAtoms())\n",
    "    df['exact_mol_wt'] = df['mol'].apply(lambda x: Descriptors.ExactMolWt(x))\n",
    "    df['AI_COO'] = df['mol'].apply(lambda x: Descriptors.fr_Al_COO(x))\n",
    "    df['morgan_fp'] = df['mol'].apply(lambda x: AllChem.GetMorganFingerprintAsBitVect(x,2,nBits=124))\n",
    "    # Can also use ToBitString()\n",
    "    df['morgan_fp'] = df['morgan_fp'].apply(lambda x: x.ToList())\n",
    "    # Or Should it be features?\n",
    "    df['morgan_fp'] = df['morgan_fp'].apply(lambda x: ''.join(str(item) for item in x))\n",
    "\n",
    "    return df\n",
    "training = 'Resources/training_smiles.csv'\n",
    "testing = 'Resources/test_smiles.csv'\n",
    "df_training = feature_extraction(get_mol(load_data(training)))\n",
    "df_testing = feature_extraction(get_mol(load_data(testing)))"
   ],
   "metadata": {
    "collapsed": false,
    "pycharm": {
     "name": "#%%\n"
    }
   }
  },
  {
   "cell_type": "markdown",
   "source": [
    "## Data Exploration"
   ],
   "metadata": {
    "collapsed": false,
    "pycharm": {
     "name": "#%% md\n"
    }
   }
  },
  {
   "cell_type": "code",
   "execution_count": 7,
   "outputs": [
    {
     "data": {
      "text/plain": "   INDEX                                             SMILES  ACTIVE  \\\n0      1               CC(C)N1CC(=O)C(c2nc3ccccc3[nH]2)=C1N     0.0   \n1      2  COc1ccc(-c2ccc3c(N)c(C(=O)c4ccc(OC)c(OC)c4)sc3...     0.0   \n2      3    CCc1ccc(C(=O)COC(=O)CCc2nc(=O)c3ccccc3[nH]2)cc1     0.0   \n3      4        O=C(CN1CCOCC1)Nc1ccc(S(=O)(=O)N2CCCCCC2)cc1     0.0   \n4      5                   C=CCC(Nc1ccccc1)c1ccc(OC)c(OC)c1     0.0   \n\n                                                 mol  num_atoms  \\\n0  <rdkit.Chem.rdchem.Mol object at 0x000001DDD6E...         19   \n1  <rdkit.Chem.rdchem.Mol object at 0x000001DDD6E...         30   \n2  <rdkit.Chem.rdchem.Mol object at 0x000001DDD6E...         27   \n3  <rdkit.Chem.rdchem.Mol object at 0x000001DDD6E...         26   \n4  <rdkit.Chem.rdchem.Mol object at 0x000001DDD6E...         21   \n\n   num_heavy_atoms  exact_mol_wt  AI_COO  \\\n0               19    256.132411       0   \n1               30    420.114378       0   \n2               27    364.142307       0   \n3               26    381.172227       0   \n4               21    283.157229       0   \n\n                                           morgan_fp  \n0  0001000010100001011101000000001100000001010000...  \n1  0011010001000101011000110000100000001000000100...  \n2  0101111100100000110101010000001000000000011110...  \n3  0000010000100000010001000000010000011110001001...  \n4  0110000001000101010001000000001001000000000100...  ",
      "text/html": "<div>\n<style scoped>\n    .dataframe tbody tr th:only-of-type {\n        vertical-align: middle;\n    }\n\n    .dataframe tbody tr th {\n        vertical-align: top;\n    }\n\n    .dataframe thead th {\n        text-align: right;\n    }\n</style>\n<table border=\"1\" class=\"dataframe\">\n  <thead>\n    <tr style=\"text-align: right;\">\n      <th></th>\n      <th>INDEX</th>\n      <th>SMILES</th>\n      <th>ACTIVE</th>\n      <th>mol</th>\n      <th>num_atoms</th>\n      <th>num_heavy_atoms</th>\n      <th>exact_mol_wt</th>\n      <th>AI_COO</th>\n      <th>morgan_fp</th>\n    </tr>\n  </thead>\n  <tbody>\n    <tr>\n      <th>0</th>\n      <td>1</td>\n      <td>CC(C)N1CC(=O)C(c2nc3ccccc3[nH]2)=C1N</td>\n      <td>0.0</td>\n      <td>&lt;rdkit.Chem.rdchem.Mol object at 0x000001DDD6E...</td>\n      <td>19</td>\n      <td>19</td>\n      <td>256.132411</td>\n      <td>0</td>\n      <td>0001000010100001011101000000001100000001010000...</td>\n    </tr>\n    <tr>\n      <th>1</th>\n      <td>2</td>\n      <td>COc1ccc(-c2ccc3c(N)c(C(=O)c4ccc(OC)c(OC)c4)sc3...</td>\n      <td>0.0</td>\n      <td>&lt;rdkit.Chem.rdchem.Mol object at 0x000001DDD6E...</td>\n      <td>30</td>\n      <td>30</td>\n      <td>420.114378</td>\n      <td>0</td>\n      <td>0011010001000101011000110000100000001000000100...</td>\n    </tr>\n    <tr>\n      <th>2</th>\n      <td>3</td>\n      <td>CCc1ccc(C(=O)COC(=O)CCc2nc(=O)c3ccccc3[nH]2)cc1</td>\n      <td>0.0</td>\n      <td>&lt;rdkit.Chem.rdchem.Mol object at 0x000001DDD6E...</td>\n      <td>27</td>\n      <td>27</td>\n      <td>364.142307</td>\n      <td>0</td>\n      <td>0101111100100000110101010000001000000000011110...</td>\n    </tr>\n    <tr>\n      <th>3</th>\n      <td>4</td>\n      <td>O=C(CN1CCOCC1)Nc1ccc(S(=O)(=O)N2CCCCCC2)cc1</td>\n      <td>0.0</td>\n      <td>&lt;rdkit.Chem.rdchem.Mol object at 0x000001DDD6E...</td>\n      <td>26</td>\n      <td>26</td>\n      <td>381.172227</td>\n      <td>0</td>\n      <td>0000010000100000010001000000010000011110001001...</td>\n    </tr>\n    <tr>\n      <th>4</th>\n      <td>5</td>\n      <td>C=CCC(Nc1ccccc1)c1ccc(OC)c(OC)c1</td>\n      <td>0.0</td>\n      <td>&lt;rdkit.Chem.rdchem.Mol object at 0x000001DDD6E...</td>\n      <td>21</td>\n      <td>21</td>\n      <td>283.157229</td>\n      <td>0</td>\n      <td>0110000001000101010001000000001001000000000100...</td>\n    </tr>\n  </tbody>\n</table>\n</div>"
     },
     "execution_count": 7,
     "metadata": {},
     "output_type": "execute_result"
    }
   ],
   "source": [
    "df_training.head()"
   ],
   "metadata": {
    "collapsed": false,
    "pycharm": {
     "name": "#%%\n"
    }
   }
  },
  {
   "cell_type": "code",
   "execution_count": 8,
   "outputs": [
    {
     "data": {
      "text/plain": "INDEX                int64\nSMILES              object\nACTIVE             float64\nmol                 object\nnum_atoms            int64\nnum_heavy_atoms      int64\nexact_mol_wt       float64\nAI_COO               int64\nmorgan_fp           object\ndtype: object"
     },
     "execution_count": 8,
     "metadata": {},
     "output_type": "execute_result"
    }
   ],
   "source": [
    "df_training.dtypes"
   ],
   "metadata": {
    "collapsed": false,
    "pycharm": {
     "name": "#%%\n"
    }
   }
  },
  {
   "cell_type": "code",
   "execution_count": 9,
   "outputs": [
    {
     "data": {
      "text/plain": "INDEX              156258\nSMILES             156258\nACTIVE             156258\nmol                156258\nnum_atoms          156258\nnum_heavy_atoms    156258\nexact_mol_wt       156258\nAI_COO             156258\nmorgan_fp          156258\ndtype: int64"
     },
     "execution_count": 9,
     "metadata": {},
     "output_type": "execute_result"
    }
   ],
   "source": [
    "df_training.count()"
   ],
   "metadata": {
    "collapsed": false,
    "pycharm": {
     "name": "#%%\n"
    }
   }
  },
  {
   "cell_type": "code",
   "execution_count": 10,
   "outputs": [
    {
     "data": {
      "text/plain": "0.0    154528\n1.0      1730\nName: ACTIVE, dtype: int64"
     },
     "execution_count": 10,
     "metadata": {},
     "output_type": "execute_result"
    }
   ],
   "source": [
    "df_training[\"ACTIVE\"].value_counts()"
   ],
   "metadata": {
    "collapsed": false,
    "pycharm": {
     "name": "#%%\n"
    }
   }
  },
  {
   "cell_type": "markdown",
   "source": [
    "Definitely to be considered imbalanced data maybe use Synthetic Minority Over-sampling Technique (SMOT). Random Over-sampling or Under-sampling"
   ],
   "metadata": {
    "collapsed": false,
    "pycharm": {
     "name": "#%% md\n"
    }
   }
  },
  {
   "cell_type": "code",
   "execution_count": 11,
   "outputs": [
    {
     "data": {
      "text/plain": "               INDEX         ACTIVE      num_atoms  num_heavy_atoms  \\\ncount  156258.000000  156258.000000  156258.000000    156258.000000   \nmean    78129.500000       0.011071      24.351892        24.351822   \nstd     45107.943519       0.104637       5.559917         5.559868   \nmin         1.000000       0.000000       2.000000         2.000000   \n25%     39065.250000       0.000000      21.000000        21.000000   \n50%     78129.500000       0.000000      24.000000        24.000000   \n75%    117193.750000       0.000000      28.000000        28.000000   \nmax    156258.000000       1.000000     101.000000       101.000000   \n\n        exact_mol_wt         AI_COO  \ncount  156258.000000  156258.000000  \nmean      348.312620       0.031307  \nstd        78.296593       0.181454  \nmin        33.021464       0.000000  \n25%       294.121572       0.000000  \n50%       344.173607       0.000000  \n75%       399.079518       0.000000  \nmax      1447.430200       4.000000  ",
      "text/html": "<div>\n<style scoped>\n    .dataframe tbody tr th:only-of-type {\n        vertical-align: middle;\n    }\n\n    .dataframe tbody tr th {\n        vertical-align: top;\n    }\n\n    .dataframe thead th {\n        text-align: right;\n    }\n</style>\n<table border=\"1\" class=\"dataframe\">\n  <thead>\n    <tr style=\"text-align: right;\">\n      <th></th>\n      <th>INDEX</th>\n      <th>ACTIVE</th>\n      <th>num_atoms</th>\n      <th>num_heavy_atoms</th>\n      <th>exact_mol_wt</th>\n      <th>AI_COO</th>\n    </tr>\n  </thead>\n  <tbody>\n    <tr>\n      <th>count</th>\n      <td>156258.000000</td>\n      <td>156258.000000</td>\n      <td>156258.000000</td>\n      <td>156258.000000</td>\n      <td>156258.000000</td>\n      <td>156258.000000</td>\n    </tr>\n    <tr>\n      <th>mean</th>\n      <td>78129.500000</td>\n      <td>0.011071</td>\n      <td>24.351892</td>\n      <td>24.351822</td>\n      <td>348.312620</td>\n      <td>0.031307</td>\n    </tr>\n    <tr>\n      <th>std</th>\n      <td>45107.943519</td>\n      <td>0.104637</td>\n      <td>5.559917</td>\n      <td>5.559868</td>\n      <td>78.296593</td>\n      <td>0.181454</td>\n    </tr>\n    <tr>\n      <th>min</th>\n      <td>1.000000</td>\n      <td>0.000000</td>\n      <td>2.000000</td>\n      <td>2.000000</td>\n      <td>33.021464</td>\n      <td>0.000000</td>\n    </tr>\n    <tr>\n      <th>25%</th>\n      <td>39065.250000</td>\n      <td>0.000000</td>\n      <td>21.000000</td>\n      <td>21.000000</td>\n      <td>294.121572</td>\n      <td>0.000000</td>\n    </tr>\n    <tr>\n      <th>50%</th>\n      <td>78129.500000</td>\n      <td>0.000000</td>\n      <td>24.000000</td>\n      <td>24.000000</td>\n      <td>344.173607</td>\n      <td>0.000000</td>\n    </tr>\n    <tr>\n      <th>75%</th>\n      <td>117193.750000</td>\n      <td>0.000000</td>\n      <td>28.000000</td>\n      <td>28.000000</td>\n      <td>399.079518</td>\n      <td>0.000000</td>\n    </tr>\n    <tr>\n      <th>max</th>\n      <td>156258.000000</td>\n      <td>1.000000</td>\n      <td>101.000000</td>\n      <td>101.000000</td>\n      <td>1447.430200</td>\n      <td>4.000000</td>\n    </tr>\n  </tbody>\n</table>\n</div>"
     },
     "execution_count": 11,
     "metadata": {},
     "output_type": "execute_result"
    }
   ],
   "source": [
    "df_training.describe()"
   ],
   "metadata": {
    "collapsed": false,
    "pycharm": {
     "name": "#%%\n"
    }
   }
  },
  {
   "cell_type": "markdown",
   "source": [
    "This means that the columns num_atoms, num_heavy_atoms, exact_mol_wt, AI_COO can be normalized. Discreatization can probably be done for num_atoms, num_heavy_atoms, exact_mol_wt but not for AI_COO. There is also a decision to be made regarding weather to keep num_atoms or num_heavy_atoms, since the data is the same in the columns."
   ],
   "metadata": {
    "collapsed": false,
    "pycharm": {
     "name": "#%% md\n"
    }
   }
  },
  {
   "cell_type": "code",
   "execution_count": 12,
   "outputs": [
    {
     "data": {
      "text/plain": "INDEX              0\nSMILES             0\nACTIVE             0\nmol                0\nnum_atoms          0\nnum_heavy_atoms    0\nexact_mol_wt       0\nAI_COO             0\nmorgan_fp          0\ndtype: int64"
     },
     "execution_count": 12,
     "metadata": {},
     "output_type": "execute_result"
    }
   ],
   "source": [
    "df_training.isnull().sum()"
   ],
   "metadata": {
    "collapsed": false,
    "pycharm": {
     "name": "#%%\n"
    }
   }
  },
  {
   "cell_type": "markdown",
   "source": [
    "According to above no features have null values i.e. no imputation needed?"
   ],
   "metadata": {
    "collapsed": false,
    "pycharm": {
     "name": "#%% md\n"
    }
   }
  },
  {
   "cell_type": "code",
   "execution_count": 16,
   "outputs": [
    {
     "data": {
      "text/plain": "<Figure size 432x288 with 2 Axes>",
      "image/png": "[encoded data removed]"
     },
     "metadata": {
      "needs_background": "light"
     },
     "output_type": "display_data"
    }
   ],
   "source": [
    "sns.heatmap(df_training.corr(), annot=True)\n",
    "plt.show()"
   ],
   "metadata": {
    "collapsed": false,
    "pycharm": {
     "name": "#%%\n"
    }
   }
  },
  {
   "cell_type": "markdown",
   "source": [
    "## Data Preparation"
   ],
   "metadata": {
    "collapsed": false,
    "pycharm": {
     "name": "#%% md\n"
    }
   }
  },
  {
   "cell_type": "code",
   "execution_count": 61,
   "outputs": [
    {
     "ename": "IndexingError",
     "evalue": "Too many indexers",
     "output_type": "error",
     "traceback": [
      "\u001B[1;31m---------------------------------------------------------------------------\u001B[0m",
      "\u001B[1;31mIndexingError\u001B[0m                             Traceback (most recent call last)",
      "Input \u001B[1;32mIn [61]\u001B[0m, in \u001B[0;36m<cell line: 12>\u001B[1;34m()\u001B[0m\n\u001B[0;32m      7\u001B[0m y_test\n\u001B[0;32m      8\u001B[0m \u001B[38;5;66;03m# print(len(X_test))\u001B[39;00m\n\u001B[0;32m      9\u001B[0m \u001B[38;5;66;03m# print(len(y_test))\u001B[39;00m\n\u001B[0;32m     10\u001B[0m \u001B[38;5;66;03m# print(len(X_train))\u001B[39;00m\n\u001B[0;32m     11\u001B[0m \u001B[38;5;66;03m# print(len(y_train))\u001B[39;00m\n\u001B[1;32m---> 12\u001B[0m \u001B[38;5;28mprint\u001B[39m(\u001B[43my_test\u001B[49m\u001B[38;5;241;43m.\u001B[39;49m\u001B[43miloc\u001B[49m\u001B[43m[\u001B[49m\u001B[43m:\u001B[49m\u001B[43m,\u001B[49m\u001B[43m:\u001B[49m\u001B[38;5;241;43m1\u001B[39;49m\u001B[43m]\u001B[49m)\n",
      "File \u001B[1;32mC:\\ProgramData\\Anaconda3\\lib\\site-packages\\pandas\\core\\indexing.py:961\u001B[0m, in \u001B[0;36m_LocationIndexer.__getitem__\u001B[1;34m(self, key)\u001B[0m\n\u001B[0;32m    959\u001B[0m     \u001B[38;5;28;01mif\u001B[39;00m \u001B[38;5;28mself\u001B[39m\u001B[38;5;241m.\u001B[39m_is_scalar_access(key):\n\u001B[0;32m    960\u001B[0m         \u001B[38;5;28;01mreturn\u001B[39;00m \u001B[38;5;28mself\u001B[39m\u001B[38;5;241m.\u001B[39mobj\u001B[38;5;241m.\u001B[39m_get_value(\u001B[38;5;241m*\u001B[39mkey, takeable\u001B[38;5;241m=\u001B[39m\u001B[38;5;28mself\u001B[39m\u001B[38;5;241m.\u001B[39m_takeable)\n\u001B[1;32m--> 961\u001B[0m     \u001B[38;5;28;01mreturn\u001B[39;00m \u001B[38;5;28;43mself\u001B[39;49m\u001B[38;5;241;43m.\u001B[39;49m\u001B[43m_getitem_tuple\u001B[49m\u001B[43m(\u001B[49m\u001B[43mkey\u001B[49m\u001B[43m)\u001B[49m\n\u001B[0;32m    962\u001B[0m \u001B[38;5;28;01melse\u001B[39;00m:\n\u001B[0;32m    963\u001B[0m     \u001B[38;5;66;03m# we by definition only have the 0th axis\u001B[39;00m\n\u001B[0;32m    964\u001B[0m     axis \u001B[38;5;241m=\u001B[39m \u001B[38;5;28mself\u001B[39m\u001B[38;5;241m.\u001B[39maxis \u001B[38;5;129;01mor\u001B[39;00m \u001B[38;5;241m0\u001B[39m\n",
      "File \u001B[1;32mC:\\ProgramData\\Anaconda3\\lib\\site-packages\\pandas\\core\\indexing.py:1458\u001B[0m, in \u001B[0;36m_iLocIndexer._getitem_tuple\u001B[1;34m(self, tup)\u001B[0m\n\u001B[0;32m   1456\u001B[0m \u001B[38;5;28;01mdef\u001B[39;00m \u001B[38;5;21m_getitem_tuple\u001B[39m(\u001B[38;5;28mself\u001B[39m, tup: \u001B[38;5;28mtuple\u001B[39m):\n\u001B[1;32m-> 1458\u001B[0m     tup \u001B[38;5;241m=\u001B[39m \u001B[38;5;28;43mself\u001B[39;49m\u001B[38;5;241;43m.\u001B[39;49m\u001B[43m_validate_tuple_indexer\u001B[49m\u001B[43m(\u001B[49m\u001B[43mtup\u001B[49m\u001B[43m)\u001B[49m\n\u001B[0;32m   1459\u001B[0m     \u001B[38;5;28;01mwith\u001B[39;00m suppress(IndexingError):\n\u001B[0;32m   1460\u001B[0m         \u001B[38;5;28;01mreturn\u001B[39;00m \u001B[38;5;28mself\u001B[39m\u001B[38;5;241m.\u001B[39m_getitem_lowerdim(tup)\n",
      "File \u001B[1;32mC:\\ProgramData\\Anaconda3\\lib\\site-packages\\pandas\\core\\indexing.py:765\u001B[0m, in \u001B[0;36m_LocationIndexer._validate_tuple_indexer\u001B[1;34m(self, key)\u001B[0m\n\u001B[0;32m    761\u001B[0m \u001B[38;5;28;01mdef\u001B[39;00m \u001B[38;5;21m_validate_tuple_indexer\u001B[39m(\u001B[38;5;28mself\u001B[39m, key: \u001B[38;5;28mtuple\u001B[39m) \u001B[38;5;241m-\u001B[39m\u001B[38;5;241m>\u001B[39m \u001B[38;5;28mtuple\u001B[39m:\n\u001B[0;32m    762\u001B[0m     \u001B[38;5;124;03m\"\"\"\u001B[39;00m\n\u001B[0;32m    763\u001B[0m \u001B[38;5;124;03m    Check the key for valid keys across my indexer.\u001B[39;00m\n\u001B[0;32m    764\u001B[0m \u001B[38;5;124;03m    \"\"\"\u001B[39;00m\n\u001B[1;32m--> 765\u001B[0m     key \u001B[38;5;241m=\u001B[39m \u001B[38;5;28;43mself\u001B[39;49m\u001B[38;5;241;43m.\u001B[39;49m\u001B[43m_validate_key_length\u001B[49m\u001B[43m(\u001B[49m\u001B[43mkey\u001B[49m\u001B[43m)\u001B[49m\n\u001B[0;32m    766\u001B[0m     key \u001B[38;5;241m=\u001B[39m \u001B[38;5;28mself\u001B[39m\u001B[38;5;241m.\u001B[39m_expand_ellipsis(key)\n\u001B[0;32m    767\u001B[0m     \u001B[38;5;28;01mfor\u001B[39;00m i, k \u001B[38;5;129;01min\u001B[39;00m \u001B[38;5;28menumerate\u001B[39m(key):\n",
      "File \u001B[1;32mC:\\ProgramData\\Anaconda3\\lib\\site-packages\\pandas\\core\\indexing.py:812\u001B[0m, in \u001B[0;36m_LocationIndexer._validate_key_length\u001B[1;34m(self, key)\u001B[0m\n\u001B[0;32m    810\u001B[0m             \u001B[38;5;28;01mraise\u001B[39;00m IndexingError(_one_ellipsis_message)\n\u001B[0;32m    811\u001B[0m         \u001B[38;5;28;01mreturn\u001B[39;00m \u001B[38;5;28mself\u001B[39m\u001B[38;5;241m.\u001B[39m_validate_key_length(key)\n\u001B[1;32m--> 812\u001B[0m     \u001B[38;5;28;01mraise\u001B[39;00m IndexingError(\u001B[38;5;124m\"\u001B[39m\u001B[38;5;124mToo many indexers\u001B[39m\u001B[38;5;124m\"\u001B[39m)\n\u001B[0;32m    813\u001B[0m \u001B[38;5;28;01mreturn\u001B[39;00m key\n",
      "\u001B[1;31mIndexingError\u001B[0m: Too many indexers"
     ]
    }
   ],
   "source": [
    "df1_training= df_training.copy()\n",
    "y = df1_training['ACTIVE']\n",
    "X = df1_training.drop(columns = 'ACTIVE', axis=1)\n",
    "\n",
    "# Stratify is used to preserve class ratio\n",
    "X_train, X_test, y_train, y_test = train_test_split(X,y, test_size=0.2, stratify=y)\n",
    "y_test\n",
    "# print(len(X_test))\n",
    "# print(len(y_test))\n",
    "# print(len(X_train))\n",
    "# print(len(y_train))"
   ],
   "metadata": {
    "collapsed": false,
    "pycharm": {
     "name": "#%%\n"
    }
   }
  },
  {
   "cell_type": "markdown",
   "source": [],
   "metadata": {
    "collapsed": false,
    "pycharm": {
     "name": "#%% md\n"
    }
   }
  },
  {
   "cell_type": "code",
   "execution_count": 67,
   "outputs": [
    {
     "data": {
      "text/plain": "<Figure size 432x288 with 2 Axes>",
      "image/png": "[encoded data removed]"
     },
     "metadata": {
      "needs_background": "light"
     },
     "output_type": "display_data"
    }
   ],
   "source": [
    "display_test = X_test.copy()\n",
    "display_train = X_train.copy()\n",
    "\n",
    "display_test = pd.concat([display_test, y_test], axis=1)\n",
    "display_train = pd.concat([display_train, y_train], axis=1)\n",
    "\n",
    "plt.subplot(1,2,1)\n",
    "display_test['ACTIVE'].hist()\n",
    "# display_test['exact_mol_wt'].hist()\n",
    "\n",
    "plt.subplot(1,2,2)\n",
    "display_train['ACTIVE'].hist()\n",
    "# display_train['exact_mol_wt'].hist()\n",
    "\n",
    "plt.show()"
   ],
   "metadata": {
    "collapsed": false,
    "pycharm": {
     "name": "#%%\n"
    }
   }
  },
  {
   "cell_type": "code",
   "execution_count": 17,
   "outputs": [],
   "source": [
    "from sklearn.compose import ColumnTransformer\n",
    "from sklearn.decomposition import PCA\n",
    "from sklearn.preprocessing import OrdinalEncoder\n",
    "from sklearn.impute import SimpleImputer\n",
    "from sklearn.pipeline import Pipeline\n",
    "\n",
    "num_features = X_train.select_dtypes(include=['float64']).columns\n",
    "cat_features = X_train.select_dtypes(include=['object', 'bool']).columns\n",
    "categorical_transformer = Pipeline(steps=[('impute', SimpleImputer(strategy='constant', fill_value=\"missing\")),\n",
    "                                          ('encoder', OrdinalEncoder(handle_unknown='use_encoded_value', unknown_value=-1))])\n",
    "numeric_transformer = Pipeline(steps=[('impute', SimpleImputer(strategy='median')),\n",
    "                                      ('pca', PCA(n_components=None))])\n",
    "preprocessor = ColumnTransformer(transformers=[('num', numeric_transformer, num_features),\n",
    "                                               ('cat', categorical_transformer, cat_features)])"
   ],
   "metadata": {
    "collapsed": false,
    "pycharm": {
     "name": "#%%\n"
    }
   }
  },
  {
   "cell_type": "markdown",
   "source": [
    "## Build a binary classifier"
   ],
   "metadata": {
    "collapsed": false,
    "pycharm": {
     "name": "#%% md\n"
    }
   }
  }
 ],
 "metadata": {
  "kernelspec": {
   "display_name": "Python 3",
   "language": "python",
   "name": "python3"
  },
  "language_info": {
   "codemirror_mode": {
    "name": "ipython",
    "version": 2
   },
   "file_extension": ".py",
   "mimetype": "text/x-python",
   "name": "python",
   "nbconvert_exporter": "python",
   "pygments_lexer": "ipython2",
   "version": "2.7.6"
  }
 },
 "nbformat": 4,
 "nbformat_minor": 0
}