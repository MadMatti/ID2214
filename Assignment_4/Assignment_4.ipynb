{
 "cells": [
  {
   "cell_type": "code",
   "execution_count": 6,
   "metadata": {
    "collapsed": true,
    "pycharm": {
     "name": "#%%\n"
    }
   },
   "outputs": [],
   "source": [
    "import pandas as pd\n",
    "import numpy as np\n",
    "from IPython.display import display\n",
    "# import all rdkit needed libraries\n",
    "import rdkit\n",
    "from rdkit.Chem import AllChem\n",
    "from rdkit.Chem import Descriptors"
   ]
  },
  {
   "cell_type": "code",
   "execution_count": 18,
   "outputs": [
    {
     "name": "stderr",
     "output_type": "stream",
     "text": [
      "[13:40:56] WARNING: not removing hydrogen atom without neighbors\n",
      "[13:41:40] WARNING: not removing hydrogen atom without neighbors\n"
     ]
    }
   ],
   "source": [
    "def load_data(file):\n",
    "    df = pd.read_csv(file)\n",
    "    return df\n",
    "\n",
    "def get_mol(df):\n",
    "    df['mol'] = df['SMILES'].apply(rdkit.Chem.MolFromSmiles)\n",
    "    return df\n",
    "\n",
    "def feature_extraction(df):\n",
    "    df['num_atoms'] = df['mol'].apply(lambda x: x.GetNumAtoms())\n",
    "    df['num_heavy_atoms'] = df['mol'].apply(lambda x: x.GetNumHeavyAtoms())\n",
    "    df['exact_mol_wt'] = df['mol'].apply(lambda x: Descriptors.ExactMolWt(x))\n",
    "    df['AI_COO'] = df['mol'].apply(lambda x: Descriptors.fr_Al_COO(x))\n",
    "    df['morgan_fp'] = df['mol'].apply(lambda x: AllChem.GetMorganFingerprintAsBitVect(x,2,nBits=124))\n",
    "\n",
    "    return df\n",
    "training = 'Resources/training_smiles.csv'\n",
    "testing = 'Resources/test_smiles.csv'\n",
    "df_training = feature_extraction(get_mol(load_data(training)))\n",
    "df_testing = feature_extraction(get_mol(load_data(testing)))"
   ],
   "metadata": {
    "collapsed": false,
    "pycharm": {
     "name": "#%%\n"
    }
   }
  },
  {
   "cell_type": "markdown",
   "source": [
    "## Data Exploration"
   ],
   "metadata": {
    "collapsed": false,
    "pycharm": {
     "name": "#%% md\n"
    }
   }
  },
  {
   "cell_type": "code",
   "execution_count": 21,
   "outputs": [
    {
     "data": {
      "text/plain": "   INDEX                                             SMILES  ACTIVE  \\\n0      1               CC(C)N1CC(=O)C(c2nc3ccccc3[nH]2)=C1N     0.0   \n1      2  COc1ccc(-c2ccc3c(N)c(C(=O)c4ccc(OC)c(OC)c4)sc3...     0.0   \n2      3    CCc1ccc(C(=O)COC(=O)CCc2nc(=O)c3ccccc3[nH]2)cc1     0.0   \n3      4        O=C(CN1CCOCC1)Nc1ccc(S(=O)(=O)N2CCCCCC2)cc1     0.0   \n4      5                   C=CCC(Nc1ccccc1)c1ccc(OC)c(OC)c1     0.0   \n\n                                                 mol  num_atoms  \\\n0  <rdkit.Chem.rdchem.Mol object at 0x000002027CD...         19   \n1  <rdkit.Chem.rdchem.Mol object at 0x000002027CD...         30   \n2  <rdkit.Chem.rdchem.Mol object at 0x000002027CD...         27   \n3  <rdkit.Chem.rdchem.Mol object at 0x000002027CD...         26   \n4  <rdkit.Chem.rdchem.Mol object at 0x000002027CD...         21   \n\n   num_heavy_atoms  exact_mol_wt  AI_COO  \\\n0               19    256.132411       0   \n1               30    420.114378       0   \n2               27    364.142307       0   \n3               26    381.172227       0   \n4               21    283.157229       0   \n\n                                           morgan_fp  \n0  [0, 0, 0, 1, 0, 0, 0, 0, 1, 0, 1, 0, 0, 0, 0, ...  \n1  [0, 0, 1, 1, 0, 1, 0, 0, 0, 1, 0, 0, 0, 1, 0, ...  \n2  [0, 1, 0, 1, 1, 1, 1, 1, 0, 0, 1, 0, 0, 0, 0, ...  \n3  [0, 0, 0, 0, 0, 1, 0, 0, 0, 0, 1, 0, 0, 0, 0, ...  \n4  [0, 1, 1, 0, 0, 0, 0, 0, 0, 1, 0, 0, 0, 1, 0, ...  ",
      "text/html": "<div>\n<style scoped>\n    .dataframe tbody tr th:only-of-type {\n        vertical-align: middle;\n    }\n\n    .dataframe tbody tr th {\n        vertical-align: top;\n    }\n\n    .dataframe thead th {\n        text-align: right;\n    }\n</style>\n<table border=\"1\" class=\"dataframe\">\n  <thead>\n    <tr style=\"text-align: right;\">\n      <th></th>\n      <th>INDEX</th>\n      <th>SMILES</th>\n      <th>ACTIVE</th>\n      <th>mol</th>\n      <th>num_atoms</th>\n      <th>num_heavy_atoms</th>\n      <th>exact_mol_wt</th>\n      <th>AI_COO</th>\n      <th>morgan_fp</th>\n    </tr>\n  </thead>\n  <tbody>\n    <tr>\n      <th>0</th>\n      <td>1</td>\n      <td>CC(C)N1CC(=O)C(c2nc3ccccc3[nH]2)=C1N</td>\n      <td>0.0</td>\n      <td>&lt;rdkit.Chem.rdchem.Mol object at 0x000002027CD...</td>\n      <td>19</td>\n      <td>19</td>\n      <td>256.132411</td>\n      <td>0</td>\n      <td>[0, 0, 0, 1, 0, 0, 0, 0, 1, 0, 1, 0, 0, 0, 0, ...</td>\n    </tr>\n    <tr>\n      <th>1</th>\n      <td>2</td>\n      <td>COc1ccc(-c2ccc3c(N)c(C(=O)c4ccc(OC)c(OC)c4)sc3...</td>\n      <td>0.0</td>\n      <td>&lt;rdkit.Chem.rdchem.Mol object at 0x000002027CD...</td>\n      <td>30</td>\n      <td>30</td>\n      <td>420.114378</td>\n      <td>0</td>\n      <td>[0, 0, 1, 1, 0, 1, 0, 0, 0, 1, 0, 0, 0, 1, 0, ...</td>\n    </tr>\n    <tr>\n      <th>2</th>\n      <td>3</td>\n      <td>CCc1ccc(C(=O)COC(=O)CCc2nc(=O)c3ccccc3[nH]2)cc1</td>\n      <td>0.0</td>\n      <td>&lt;rdkit.Chem.rdchem.Mol object at 0x000002027CD...</td>\n      <td>27</td>\n      <td>27</td>\n      <td>364.142307</td>\n      <td>0</td>\n      <td>[0, 1, 0, 1, 1, 1, 1, 1, 0, 0, 1, 0, 0, 0, 0, ...</td>\n    </tr>\n    <tr>\n      <th>3</th>\n      <td>4</td>\n      <td>O=C(CN1CCOCC1)Nc1ccc(S(=O)(=O)N2CCCCCC2)cc1</td>\n      <td>0.0</td>\n      <td>&lt;rdkit.Chem.rdchem.Mol object at 0x000002027CD...</td>\n      <td>26</td>\n      <td>26</td>\n      <td>381.172227</td>\n      <td>0</td>\n      <td>[0, 0, 0, 0, 0, 1, 0, 0, 0, 0, 1, 0, 0, 0, 0, ...</td>\n    </tr>\n    <tr>\n      <th>4</th>\n      <td>5</td>\n      <td>C=CCC(Nc1ccccc1)c1ccc(OC)c(OC)c1</td>\n      <td>0.0</td>\n      <td>&lt;rdkit.Chem.rdchem.Mol object at 0x000002027CD...</td>\n      <td>21</td>\n      <td>21</td>\n      <td>283.157229</td>\n      <td>0</td>\n      <td>[0, 1, 1, 0, 0, 0, 0, 0, 0, 1, 0, 0, 0, 1, 0, ...</td>\n    </tr>\n  </tbody>\n</table>\n</div>"
     },
     "execution_count": 21,
     "metadata": {},
     "output_type": "execute_result"
    }
   ],
   "source": [
    "df_training.head()"
   ],
   "metadata": {
    "collapsed": false,
    "pycharm": {
     "name": "#%%\n"
    }
   }
  },
  {
   "cell_type": "code",
   "execution_count": 22,
   "outputs": [
    {
     "data": {
      "text/plain": "INDEX                int64\nSMILES              object\nACTIVE             float64\nmol                 object\nnum_atoms            int64\nnum_heavy_atoms      int64\nexact_mol_wt       float64\nAI_COO               int64\nmorgan_fp           object\ndtype: object"
     },
     "execution_count": 22,
     "metadata": {},
     "output_type": "execute_result"
    }
   ],
   "source": [
    "df_training.dtypes"
   ],
   "metadata": {
    "collapsed": false,
    "pycharm": {
     "name": "#%%\n"
    }
   }
  },
  {
   "cell_type": "code",
   "execution_count": 14,
   "outputs": [
    {
     "data": {
      "text/plain": "INDEX              156258\nSMILES             156258\nACTIVE             156258\nmol                156258\nnum_atoms          156258\nnum_heavy_atoms    156258\nexact_mol_wt       156258\nAI_COO             156258\nmorgan_fp          156258\ndtype: int64"
     },
     "execution_count": 14,
     "metadata": {},
     "output_type": "execute_result"
    }
   ],
   "source": [
    "df_training.count()"
   ],
   "metadata": {
    "collapsed": false,
    "pycharm": {
     "name": "#%%\n"
    }
   }
  },
  {
   "cell_type": "code",
   "execution_count": 23,
   "outputs": [
    {
     "data": {
      "text/plain": "0.0    154528\n1.0      1730\nName: ACTIVE, dtype: int64"
     },
     "execution_count": 23,
     "metadata": {},
     "output_type": "execute_result"
    }
   ],
   "source": [
    "df_training[\"ACTIVE\"].value_counts()"
   ],
   "metadata": {
    "collapsed": false,
    "pycharm": {
     "name": "#%%\n"
    }
   }
  },
  {
   "cell_type": "markdown",
   "source": [
    "Definitely to be considered imbalanced data maybe use Synthetic Minority Over-sampling Technique (SMOT). Random Over-sampling or Under-sampling"
   ],
   "metadata": {
    "collapsed": false,
    "pycharm": {
     "name": "#%% md\n"
    }
   }
  },
  {
   "cell_type": "code",
   "execution_count": 27,
   "outputs": [
    {
     "data": {
      "text/plain": "               INDEX         ACTIVE      num_atoms  num_heavy_atoms  \\\ncount  156258.000000  156258.000000  156258.000000    156258.000000   \nmean    78129.500000       0.011071      24.351892        24.351822   \nstd     45107.943519       0.104637       5.559917         5.559868   \nmin         1.000000       0.000000       2.000000         2.000000   \n25%     39065.250000       0.000000      21.000000        21.000000   \n50%     78129.500000       0.000000      24.000000        24.000000   \n75%    117193.750000       0.000000      28.000000        28.000000   \nmax    156258.000000       1.000000     101.000000       101.000000   \n\n        exact_mol_wt         AI_COO  \ncount  156258.000000  156258.000000  \nmean      348.312620       0.031307  \nstd        78.296593       0.181454  \nmin        33.021464       0.000000  \n25%       294.121572       0.000000  \n50%       344.173607       0.000000  \n75%       399.079518       0.000000  \nmax      1447.430200       4.000000  ",
      "text/html": "<div>\n<style scoped>\n    .dataframe tbody tr th:only-of-type {\n        vertical-align: middle;\n    }\n\n    .dataframe tbody tr th {\n        vertical-align: top;\n    }\n\n    .dataframe thead th {\n        text-align: right;\n    }\n</style>\n<table border=\"1\" class=\"dataframe\">\n  <thead>\n    <tr style=\"text-align: right;\">\n      <th></th>\n      <th>INDEX</th>\n      <th>ACTIVE</th>\n      <th>num_atoms</th>\n      <th>num_heavy_atoms</th>\n      <th>exact_mol_wt</th>\n      <th>AI_COO</th>\n    </tr>\n  </thead>\n  <tbody>\n    <tr>\n      <th>count</th>\n      <td>156258.000000</td>\n      <td>156258.000000</td>\n      <td>156258.000000</td>\n      <td>156258.000000</td>\n      <td>156258.000000</td>\n      <td>156258.000000</td>\n    </tr>\n    <tr>\n      <th>mean</th>\n      <td>78129.500000</td>\n      <td>0.011071</td>\n      <td>24.351892</td>\n      <td>24.351822</td>\n      <td>348.312620</td>\n      <td>0.031307</td>\n    </tr>\n    <tr>\n      <th>std</th>\n      <td>45107.943519</td>\n      <td>0.104637</td>\n      <td>5.559917</td>\n      <td>5.559868</td>\n      <td>78.296593</td>\n      <td>0.181454</td>\n    </tr>\n    <tr>\n      <th>min</th>\n      <td>1.000000</td>\n      <td>0.000000</td>\n      <td>2.000000</td>\n      <td>2.000000</td>\n      <td>33.021464</td>\n      <td>0.000000</td>\n    </tr>\n    <tr>\n      <th>25%</th>\n      <td>39065.250000</td>\n      <td>0.000000</td>\n      <td>21.000000</td>\n      <td>21.000000</td>\n      <td>294.121572</td>\n      <td>0.000000</td>\n    </tr>\n    <tr>\n      <th>50%</th>\n      <td>78129.500000</td>\n      <td>0.000000</td>\n      <td>24.000000</td>\n      <td>24.000000</td>\n      <td>344.173607</td>\n      <td>0.000000</td>\n    </tr>\n    <tr>\n      <th>75%</th>\n      <td>117193.750000</td>\n      <td>0.000000</td>\n      <td>28.000000</td>\n      <td>28.000000</td>\n      <td>399.079518</td>\n      <td>0.000000</td>\n    </tr>\n    <tr>\n      <th>max</th>\n      <td>156258.000000</td>\n      <td>1.000000</td>\n      <td>101.000000</td>\n      <td>101.000000</td>\n      <td>1447.430200</td>\n      <td>4.000000</td>\n    </tr>\n  </tbody>\n</table>\n</div>"
     },
     "execution_count": 27,
     "metadata": {},
     "output_type": "execute_result"
    }
   ],
   "source": [
    "df_training.describe()"
   ],
   "metadata": {
    "collapsed": false,
    "pycharm": {
     "name": "#%%\n"
    }
   }
  },
  {
   "cell_type": "markdown",
   "source": [
    "This means that the columns num_atoms, num_heavy_atoms, exact_mol_wt, AI_COO can be normalized. Discreatization can probably be done for num_atoms, num_heavy_atoms, exact_mol_wt but not for AI_COO. There is also a decision to be made regarding weather to keep num_atoms or num_heavy_atoms, since the data is the same in the columns."
   ],
   "metadata": {
    "collapsed": false,
    "pycharm": {
     "name": "#%% md\n"
    }
   }
  },
  {
   "cell_type": "code",
   "execution_count": 28,
   "outputs": [
    {
     "data": {
      "text/plain": "INDEX              0\nSMILES             0\nACTIVE             0\nmol                0\nnum_atoms          0\nnum_heavy_atoms    0\nexact_mol_wt       0\nAI_COO             0\nmorgan_fp          0\ndtype: int64"
     },
     "execution_count": 28,
     "metadata": {},
     "output_type": "execute_result"
    }
   ],
   "source": [
    "df_training.isnull().sum()"
   ],
   "metadata": {
    "collapsed": false,
    "pycharm": {
     "name": "#%%\n"
    }
   }
  },
  {
   "cell_type": "markdown",
   "source": [
    "According to above no features have null values i.e. no imputation needed?"
   ],
   "metadata": {
    "collapsed": false,
    "pycharm": {
     "name": "#%% md\n"
    }
   }
  },
  {
   "cell_type": "markdown",
   "source": [
    "## Data Preparation"
   ],
   "metadata": {
    "collapsed": false,
    "pycharm": {
     "name": "#%% md\n"
    }
   }
  },
  {
   "cell_type": "code",
   "execution_count": 31,
   "outputs": [],
   "source": [
    "from sklearn.preprocessing import KBinsDiscretizer\n",
    "\n",
    "discretizer = KBinsDiscretizer(n_bins=10, encode='uniform',\n",
    "                               strategy='uniform')"
   ],
   "metadata": {
    "collapsed": false,
    "pycharm": {
     "name": "#%%\n"
    }
   }
  },
  {
   "cell_type": "code",
   "execution_count": 32,
   "outputs": [],
   "source": [
    "from sklearn.model_selection import train_test_split\n",
    "\n",
    "# Definitely not sure about this since the data sets are pre-split.\n",
    "# Might be that only the second split is needed into test/valid\n",
    "\n",
    "#df1_training= df_training.copy()\n",
    "#y = df1_training['ACTIVE']\n",
    "#X = df1_training.drop(columns = 'ACTIVE')\n",
    "\n",
    "#X_train, X_rem, y_train, y_rem = train_test_split(X,y, train_size = 0.8)\n",
    "#X_valid, X_test, y_valid, y_test = train_test_split(X,y, test_size=0.5)\n"
   ],
   "metadata": {
    "collapsed": false,
    "pycharm": {
     "name": "#%%\n"
    }
   }
  },
  {
   "cell_type": "code",
   "execution_count": null,
   "outputs": [],
   "source": [],
   "metadata": {
    "collapsed": false,
    "pycharm": {
     "name": "#%%\n"
    }
   }
  },
  {
   "cell_type": "markdown",
   "source": [
    "## Build a binary classifier"
   ],
   "metadata": {
    "collapsed": false,
    "pycharm": {
     "name": "#%% md\n"
    }
   }
  },
  {
   "cell_type": "code",
   "execution_count": null,
   "outputs": [],
   "source": [
    "\n"
   ],
   "metadata": {
    "collapsed": false,
    "pycharm": {
     "name": "#%%\n"
    }
   }
  }
 ],
 "metadata": {
  "kernelspec": {
   "display_name": "Python 3",
   "language": "python",
   "name": "python3"
  },
  "language_info": {
   "codemirror_mode": {
    "name": "ipython",
    "version": 2
   },
   "file_extension": ".py",
   "mimetype": "text/x-python",
   "name": "python",
   "nbconvert_exporter": "python",
   "pygments_lexer": "ipython2",
   "version": "2.7.6"
  }
 },
 "nbformat": 4,
 "nbformat_minor": 0
}